{
 "cells": [
  {
   "cell_type": "code",
   "execution_count": null,
   "metadata": {},
   "outputs": [],
   "source": [
    "number_dic_ko = (\"\", \"일\", \"이\", \"삼\", \"사\", \"오\", \"육\", \"칠\", \"팔\", \"구\")\n",
    "place_value1_ko = (\"\", \"십\", \"백\", \"천\")\n",
    "place_value2_ko = (\"\", \"만\", \"억\", \"조\", \"경\")\n",
    "\n",
    "def split_number(number, n):\n",
    "    \"\"\"number를 n자리씩 끊어서 리스트로 반환한다.\"\"\"\n",
    "    res = []\n",
    "    div = 10**n\n",
    "    while number > 0:\n",
    "        number, remainder = divmod(number, div)\n",
    "        res.append(remainder)\n",
    "    return res"
   ]
  },
  {
   "cell_type": "code",
   "execution_count": null,
   "metadata": {},
   "outputs": [],
   "source": [
    "def convert_lt_10000(number, delimiter):\n",
    "    \"\"\"10000 미만의 수를 한글로 변환한다.\n",
    "       delimiter가 ''이면 1을 무조건 '일'로 바꾼다.\"\"\"\n",
    "    res = \"\"\n",
    "    for place, digit in enumerate(split_number(number, 1)):\n",
    "        if not digit:\n",
    "            continue\n",
    "        if delimiter and digit == 1 and place != 0:\n",
    "            num = \"\"\n",
    "        else:\n",
    "            num = number_dic_ko[digit]\n",
    "        res = num + place_value1_ko[place] + res\n",
    "    return res"
   ]
  },
  {
   "cell_type": "code",
   "execution_count": null,
   "metadata": {},
   "outputs": [],
   "source": [
    "# for number in range(0, 2000, 121):\n",
    "#   print(f\"({number:})/({convert_lt_10000(number, ' ')})\")"
   ]
  },
  {
   "cell_type": "code",
   "execution_count": null,
   "metadata": {},
   "outputs": [],
   "source": [
    "# number = int(input())\n",
    "# print(f\"({number:})/({convert_lt_10000(number, '')})\")\n"
   ]
  },
  {
   "cell_type": "code",
   "execution_count": null,
   "metadata": {},
   "outputs": [],
   "source": [
    "def number_to_word_ko(number, delimiter=\" \"):\n",
    "    \"\"\"0 이상의 number를 한글로 바꾼다.\n",
    "       delimiter를 ''로 지정하면 1을 '일'로 바꾸고 공백을 넣지 않는다.\"\"\"\n",
    "    if number == 0:\n",
    "        return \"영\"\n",
    "    word_list = []\n",
    "    for place, digits in enumerate(split_number2(number, 4)):\n",
    "        if word := convert_lt_10000(digits, delimiter):\n",
    "            word += place_value2_ko[place]\n",
    "            word_list.append(word)\n",
    "    res = delimiter.join(word_list[::-1])\n",
    "    if delimiter and 10000 <= number < 20000:\n",
    "        res = res[1:]\n",
    "    return res"
   ]
  },
  {
   "cell_type": "code",
   "execution_count": null,
   "metadata": {},
   "outputs": [],
   "source": [
    "#10000 이상 입력 시 만과 천 사이에 공백\n",
    "number = int(input())\n",
    "print(f\"({number:})/({number_to_word_ko(number)})\")\n"
   ]
  }
 ],
 "metadata": {
  "kernelspec": {
   "display_name": "Python 3",
   "language": "python",
   "name": "python3"
  },
  "language_info": {
   "codemirror_mode": {
    "name": "ipython",
    "version": 3
   },
   "file_extension": ".py",
   "mimetype": "text/x-python",
   "name": "python",
   "nbconvert_exporter": "python",
   "pygments_lexer": "ipython3",
   "version": "3.11.5"
  },
  "orig_nbformat": 4
 },
 "nbformat": 4,
 "nbformat_minor": 2
}
